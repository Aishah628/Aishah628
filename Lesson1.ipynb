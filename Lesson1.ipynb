{
  "nbformat": 4,
  "nbformat_minor": 0,
  "metadata": {
    "colab": {
      "provenance": [],
      "authorship_tag": "ABX9TyP2GKtm5Ke/1ILDcfdKV8Jl",
      "include_colab_link": true
    },
    "kernelspec": {
      "name": "python3",
      "display_name": "Python 3"
    },
    "language_info": {
      "name": "python"
    }
  },
  "cells": [
    {
      "cell_type": "markdown",
      "metadata": {
        "id": "view-in-github",
        "colab_type": "text"
      },
      "source": [
        "<a href=\"https://colab.research.google.com/github/Aishah628/Aishah628/blob/main/Lesson1.ipynb\" target=\"_parent\"><img src=\"https://colab.research.google.com/assets/colab-badge.svg\" alt=\"Open In Colab\"/></a>"
      ]
    },
    {
      "cell_type": "code",
      "execution_count": null,
      "metadata": {
        "colab": {
          "base_uri": "https://localhost:8080/"
        },
        "id": "c10ZXIqLbywO",
        "outputId": "7d595ab0-0019-4647-efed-a79eca00d971"
      },
      "outputs": [
        {
          "output_type": "stream",
          "name": "stdout",
          "text": [
            "I am going to be the best Data scientist remeber my name , I am Aishah Aljohani  and I am 23 years old : ) \n",
            " thank you MASAR \n"
          ]
        }
      ],
      "source": [
        "name = \" Aishah Aljohani \"\n",
        "age = 23\n",
        "print(f'I am going to be the best Data scientist remeber my name , I am{name} and I am {age} years old : ) \\n thank you MASAR ')"
      ]
    },
    {
      "cell_type": "markdown",
      "source": [
        "\n",
        "\n",
        "\n",
        "```\n",
        "# This is formatted as code\n",
        "```\n",
        "\n"
      ],
      "metadata": {
        "id": "AFWm-pr2dx51"
      }
    },
    {
      "cell_type": "code",
      "source": [
        "print('hallo world')"
      ],
      "metadata": {
        "colab": {
          "base_uri": "https://localhost:8080/"
        },
        "id": "Kr_wPSdSgyAL",
        "outputId": "d2ebac7f-0c00-4c85-fcad-db9debc2844f"
      },
      "execution_count": null,
      "outputs": [
        {
          "output_type": "stream",
          "name": "stdout",
          "text": [
            "hallo world\n"
          ]
        }
      ]
    },
    {
      "cell_type": "markdown",
      "source": [],
      "metadata": {
        "id": "Ko4wj65mEnoy"
      }
    },
    {
      "cell_type": "markdown",
      "source": [],
      "metadata": {
        "id": "WuEAOfAZglwR"
      }
    },
    {
      "cell_type": "markdown",
      "source": [
        "# lesson 1 :\n",
        "## introduction to python\n",
        "introduction variable\n",
        "\n",
        "introduction function"
      ],
      "metadata": {
        "id": "ExOg_En2kJgH"
      }
    },
    {
      "cell_type": "markdown",
      "source": [],
      "metadata": {
        "id": "vbwUgXz7kN5n"
      }
    },
    {
      "cell_type": "markdown",
      "source": [],
      "metadata": {
        "id": "aiUp2874kN81"
      }
    },
    {
      "cell_type": "markdown",
      "source": [],
      "metadata": {
        "id": "mzHKoOEYkMVM"
      }
    }
  ]
}